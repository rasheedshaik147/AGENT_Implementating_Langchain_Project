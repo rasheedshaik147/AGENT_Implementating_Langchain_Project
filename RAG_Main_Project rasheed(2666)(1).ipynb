{
 "cells": [
  {
   "cell_type": "code",
   "execution_count": null,
   "metadata": {},
   "outputs": [
    {
     "name": "stderr",
     "output_type": "stream",
     "text": [
      "C:\\Users\\LENOVO\\AppData\\Local\\Temp\\ipykernel_12948\\4013077702.py:27: LangChainDeprecationWarning: The class `OpenAI` was deprecated in LangChain 0.0.10 and will be removed in 1.0. An updated version of the class exists in the :class:`~langchain-openai package and should be used instead. To use it run `pip install -U :class:`~langchain-openai` and import as `from :class:`~langchain_openai import OpenAI``.\n",
      "  llm = OpenAI(openai_api_key=openai_api_key)\n"
     ]
    },
    {
     "name": "stdout",
     "output_type": "stream",
     "text": [
      "FAISS Vector Store and QA system initialized successfully!\n"
     ]
    },
    {
     "name": "stderr",
     "output_type": "stream",
     "text": [
      "C:\\Users\\LENOVO\\AppData\\Local\\Temp\\ipykernel_12948\\4013077702.py:36: LangChainDeprecationWarning: The method `Chain.run` was deprecated in langchain 0.1.0 and will be removed in 1.0. Use :meth:`~invoke` instead.\n",
      "  response = qa_chain.run(query)\n"
     ]
    },
    {
     "name": "stdout",
     "output_type": "stream",
     "text": [
      "\n",
      "RAG is a combination of search and generative models that is used to improve responses.\n"
     ]
    }
   ],
   "source": [
    "from langchain.embeddings.openai import OpenAIEmbeddings\n",
    "from langchain.vectorstores import FAISS\n",
    "from langchain.llms import OpenAI\n",
    "from langchain.chains import RetrievalQA\n",
    "import os\n",
    "\n",
    "# ✅ Replace with your actual OpenAI API key\n",
    "openai_api_key = \"\"\n",
    "\n",
    "# ✅ Load documents into FAISS vector store\n",
    "documents = [\n",
    "    \"LangChain is a framework for developing LLM applications.\",\n",
    "    \"RAG combines search and generative models for better responses.\",\n",
    "    \"Agents use NLP techniques to process user queries.\"\n",
    "]\n",
    "\n",
    "# ✅ Initialize OpenAIEmbeddings with the API key\n",
    "embeddings = OpenAIEmbeddings(openai_api_key=openai_api_key)\n",
    "\n",
    "# ✅ Create FAISS vector store\n",
    "vector_store = FAISS.from_texts(documents, embeddings)\n",
    "\n",
    "# ✅ Create retriever\n",
    "retriever = vector_store.as_retriever()\n",
    "\n",
    "# ✅ Initialize the LLM model\n",
    "llm = OpenAI(openai_api_key=openai_api_key)\n",
    "\n",
    "# ✅ Define the RetrievalQA chain correctly\n",
    "qa_chain = RetrievalQA.from_llm(llm=llm, retriever=retriever)\n",
    "\n",
    "print(\"FAISS Vector Store and QA system initialized successfully!\")\n",
    "\n",
    "# ✅ Query the agent\n",
    "query = \"What is RAG?\"\n",
    "response = qa_chain.run(query)\n",
    "\n",
    "# ✅ Print the response\n",
    "print(response)\n"
   ]
  },
  {
   "cell_type": "code",
   "execution_count": null,
   "metadata": {},
   "outputs": [],
   "source": []
  }
 ],
 "metadata": {
  "kernelspec": {
   "display_name": "Python 3",
   "language": "python",
   "name": "python3"
  },
  "language_info": {
   "codemirror_mode": {
    "name": "ipython",
    "version": 3
   },
   "file_extension": ".py",
   "mimetype": "text/x-python",
   "name": "python",
   "nbconvert_exporter": "python",
   "pygments_lexer": "ipython3",
   "version": "3.12.2"
  }
 },
 "nbformat": 4,
 "nbformat_minor": 2
}
